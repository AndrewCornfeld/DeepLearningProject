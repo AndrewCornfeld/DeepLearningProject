{
 "cells": [
  {
   "cell_type": "code",
   "execution_count": 1,
   "id": "696f8625-44f8-4179-939a-9720c0553141",
   "metadata": {
    "tags": []
   },
   "outputs": [],
   "source": [
    "import os\n",
    "import numpy as np\n",
    "import torch\n",
    "import torch.nn as nn\n",
    "import torch.optim as optim\n",
    "import time\n",
    "import certifi\n",
    "import ssl\n",
    "from torch.utils.data import DataLoader, Dataset\n",
    "from torchvision import transforms, models\n",
    "from PIL import Image\n",
    "import matplotlib.pyplot as plt"
   ]
  },
  {
   "cell_type": "code",
   "execution_count": 2,
   "id": "84c6601c",
   "metadata": {},
   "outputs": [],
   "source": [
    "# fix SSL certificate issues by specifying certificate path\n",
    "os.environ['SSL_CERT_FILE'] = certifi.where()"
   ]
  },
  {
   "cell_type": "code",
   "execution_count": 3,
   "id": "e20aecec",
   "metadata": {},
   "outputs": [],
   "source": [
    "# set random seed for reproducibility\n",
    "def setup_seed(seed):\n",
    "    torch.manual_seed(seed)\n",
    "    torch.cuda.manual_seed_all(seed)\n",
    "    np.random.seed(seed)\n",
    "    torch.backends.cudnn.deterministic = True\n",
    "\n",
    "SEED = 101\n",
    "setup_seed(SEED)"
   ]
  },
  {
   "cell_type": "code",
   "execution_count": 4,
   "id": "6f258f11",
   "metadata": {},
   "outputs": [
    {
     "name": "stdout",
     "output_type": "stream",
     "text": [
      "Using device: cpu\n"
     ]
    }
   ],
   "source": [
    "# check for gpu\n",
    "device = torch.device(\"cuda\" if torch.cuda.is_available() else \"cpu\")\n",
    "print(f\"Using device: {device}\")"
   ]
  },
  {
   "cell_type": "code",
   "execution_count": 5,
   "id": "1709a266",
   "metadata": {},
   "outputs": [],
   "source": [
    "# setup data directories with confirmed path\n",
    "base_dir = \"../DeepLearningProject/datasets\"\n",
    "train_dir = os.path.join(base_dir, \"train\")\n",
    "val_dir = os.path.join(base_dir, \"val\")\n",
    "test_dir = os.path.join(base_dir, \"test\")"
   ]
  },
  {
   "cell_type": "code",
   "execution_count": 6,
   "id": "9518d894",
   "metadata": {},
   "outputs": [],
   "source": [
    "# define the dataset class\n",
    "class KneeOADataset(Dataset):\n",
    "    def __init__(self, root_dir, transform=None):\n",
    "        self.root_dir = root_dir\n",
    "        self.transform = transform\n",
    "        self.image_paths = []\n",
    "        self.labels = []\n",
    "        \n",
    "        # collect all images and labels\n",
    "        for label in range(5):  # Labels: 0 to 4 (severity levels)\n",
    "            label_dir = os.path.join(root_dir, str(label))\n",
    "            if os.path.exists(label_dir):\n",
    "                for img_name in os.listdir(label_dir):\n",
    "                    self.image_paths.append(os.path.join(label_dir, img_name))\n",
    "                    self.labels.append(label)\n",
    "\n",
    "    def __len__(self):\n",
    "        return len(self.image_paths)\n",
    "\n",
    "    def __getitem__(self, idx):\n",
    "        img_path = self.image_paths[idx]\n",
    "        image = Image.open(img_path).convert(\"RGB\")\n",
    "        label = self.labels[idx]\n",
    "        \n",
    "        if self.transform:\n",
    "            image = self.transform(image)\n",
    "        \n",
    "        return image, label"
   ]
  },
  {
   "cell_type": "code",
   "execution_count": 7,
   "id": "d661f4a4",
   "metadata": {},
   "outputs": [],
   "source": [
    "# data transforms with augmentation for training\n",
    "data_transforms = {\n",
    "    'train': transforms.Compose([\n",
    "        transforms.Resize((224, 224)),\n",
    "        transforms.RandomHorizontalFlip(),\n",
    "        transforms.ToTensor(),\n",
    "        transforms.Normalize([0.485, 0.456, 0.406], [0.229, 0.224, 0.225])\n",
    "    ]),\n",
    "    'val': transforms.Compose([\n",
    "        transforms.Resize((224, 224)),\n",
    "        transforms.ToTensor(),\n",
    "        transforms.Normalize([0.485, 0.456, 0.406], [0.229, 0.224, 0.225])\n",
    "    ]),\n",
    "    'test': transforms.Compose([\n",
    "        transforms.Resize((224, 224)),\n",
    "        transforms.ToTensor(),\n",
    "        transforms.Normalize([0.485, 0.456, 0.406], [0.229, 0.224, 0.225])\n",
    "    ])\n",
    "}"
   ]
  },
  {
   "cell_type": "code",
   "execution_count": 8,
   "id": "6c830493",
   "metadata": {},
   "outputs": [],
   "source": [
    "# create datasets\n",
    "train_dataset = KneeOADataset(train_dir, transform=data_transforms['train'])\n",
    "val_dataset = KneeOADataset(val_dir, transform=data_transforms['val'])\n",
    "test_dataset = KneeOADataset(test_dir, transform=data_transforms['test'])"
   ]
  },
  {
   "cell_type": "code",
   "execution_count": 9,
   "id": "2927e552",
   "metadata": {},
   "outputs": [
    {
     "name": "stdout",
     "output_type": "stream",
     "text": [
      "Training set size: 5778\n",
      "Validation set size: 826\n",
      "Test set size: 1656\n"
     ]
    }
   ],
   "source": [
    "# check dataset sizes\n",
    "print(f\"Training set size: {len(train_dataset)}\")\n",
    "print(f\"Validation set size: {len(val_dataset)}\")\n",
    "print(f\"Test set size: {len(test_dataset)}\")"
   ]
  },
  {
   "cell_type": "code",
   "execution_count": 10,
   "id": "b1fbba04",
   "metadata": {},
   "outputs": [],
   "source": [
    "# create data loaders\n",
    "BATCH_SIZE = 32\n",
    "train_loader = DataLoader(train_dataset, batch_size=BATCH_SIZE, shuffle=True)\n",
    "val_loader = DataLoader(val_dataset, batch_size=BATCH_SIZE, shuffle=False)\n",
    "test_loader = DataLoader(test_dataset, batch_size=BATCH_SIZE, shuffle=False)\n",
    "\n",
    "dataloaders = {\n",
    "    'train': train_loader,\n",
    "    'val': val_loader,\n",
    "    'test': test_loader\n",
    "}"
   ]
  },
  {
   "cell_type": "code",
   "execution_count": 11,
   "id": "1a6766dc",
   "metadata": {},
   "outputs": [],
   "source": [
    "# create vgg11 model with transfer learning\n",
    "def create_vgg11_model():\n",
    "    # load pre-trained VGG11 with batch normalization\n",
    "    model = models.vgg11_bn(weights=models.VGG11_BN_Weights.DEFAULT)\n",
    "    \n",
    "    # freeze early convolutional layers for transfer learning\n",
    "    for param in model.features[:6].parameters():  # freeze first few layers\n",
    "        param.requires_grad = False\n",
    "    \n",
    "    # modify the classifier for our task (5 classes for OA grades)\n",
    "    num_ftrs = model.classifier[6].in_features\n",
    "    model.classifier[6] = nn.Linear(num_ftrs, 5)  # 5 classes (0-4 severity)\n",
    "    \n",
    "    return model.to(device)"
   ]
  },
  {
   "cell_type": "code",
   "execution_count": 12,
   "id": "4dd45495",
   "metadata": {},
   "outputs": [],
   "source": [
    "# training function\n",
    "def train_model(model, criterion, optimizer, scheduler, num_epochs=10):\n",
    "    start_time = time.time()\n",
    "    \n",
    "    # initialize variables to track best model\n",
    "    best_model_wts = model.state_dict()\n",
    "    best_acc = 0.0\n",
    "    \n",
    "    # track training history\n",
    "    history = {\n",
    "        'train_loss': [],\n",
    "        'train_acc': [],\n",
    "        'val_loss': [],\n",
    "        'val_acc': []\n",
    "    }\n",
    "    \n",
    "    for epoch in range(num_epochs):\n",
    "        print(f'Epoch {epoch+1}/{num_epochs}')\n",
    "        print('-' * 10)\n",
    "        \n",
    "        # each epoch has training and validation phase\n",
    "        for phase in ['train', 'val']:\n",
    "            if phase == 'train':\n",
    "                model.train()\n",
    "            else:\n",
    "                model.eval()\n",
    "            \n",
    "            running_loss = 0.0\n",
    "            running_corrects = 0\n",
    "            \n",
    "            # iterate over batches\n",
    "            for inputs, labels in dataloaders[phase]:\n",
    "                inputs = inputs.to(device)\n",
    "                labels = labels.to(device)\n",
    "                \n",
    "                # zero gradients\n",
    "                optimizer.zero_grad()\n",
    "                \n",
    "                # forward pass\n",
    "                with torch.set_grad_enabled(phase == 'train'):\n",
    "                    outputs = model(inputs)\n",
    "                    loss = criterion(outputs, labels)\n",
    "                    _, preds = torch.max(outputs, 1)\n",
    "                    \n",
    "                    # backward pass + optimize only in training\n",
    "                    if phase == 'train':\n",
    "                        loss.backward()\n",
    "                        optimizer.step()\n",
    "                \n",
    "                # statistics\n",
    "                running_loss += loss.item() * inputs.size(0)\n",
    "                running_corrects += torch.sum(preds == labels.data)\n",
    "            \n",
    "            # calculate epoch statistics\n",
    "            epoch_loss = running_loss / len(dataloaders[phase].dataset)\n",
    "            epoch_acc = running_corrects.double() / len(dataloaders[phase].dataset)\n",
    "            \n",
    "            # store in history\n",
    "            if phase == 'train':\n",
    "                history['train_loss'].append(epoch_loss)\n",
    "                history['train_acc'].append(epoch_acc.item())\n",
    "            else:\n",
    "                history['val_loss'].append(epoch_loss)\n",
    "                history['val_acc'].append(epoch_acc.item())\n",
    "            \n",
    "            print(f'{phase} Loss: {epoch_loss:.4f} Acc: {epoch_acc:.4f}')\n",
    "            \n",
    "            # save best model\n",
    "            if phase == 'val' and epoch_acc > best_acc:\n",
    "                best_acc = epoch_acc\n",
    "                best_model_wts = model.state_dict().copy()\n",
    "        \n",
    "        # update learning rate\n",
    "        if scheduler is not None:\n",
    "            scheduler.step()\n",
    "        \n",
    "        print()\n",
    "    \n",
    "    # training completed\n",
    "    time_elapsed = time.time() - start_time\n",
    "    print(f'Training complete in {time_elapsed // 60:.0f}m {time_elapsed % 60:.0f}s')\n",
    "    print(f'Best val Acc: {best_acc:.4f}')\n",
    "    \n",
    "    # load the best model weights\n",
    "    model.load_state_dict(best_model_wts)\n",
    "    return model, history"
   ]
  },
  {
   "cell_type": "code",
   "execution_count": 13,
   "id": "48d29cb9",
   "metadata": {},
   "outputs": [],
   "source": [
    "# test model function\n",
    "def test_model(model, test_loader):\n",
    "    model.eval()\n",
    "    running_corrects = 0\n",
    "    \n",
    "    with torch.no_grad():\n",
    "        for inputs, labels in test_loader:\n",
    "            inputs = inputs.to(device)\n",
    "            labels = labels.to(device)\n",
    "            \n",
    "            outputs = model(inputs)\n",
    "            _, preds = torch.max(outputs, 1)\n",
    "            \n",
    "            running_corrects += torch.sum(preds == labels.data)\n",
    "    \n",
    "    acc = running_corrects.double() / len(test_loader.dataset)\n",
    "    print(f'Test Accuracy: {acc:.4f}')\n",
    "    return acc.item()"
   ]
  },
  {
   "cell_type": "code",
   "execution_count": 14,
   "id": "e6a3223d",
   "metadata": {},
   "outputs": [],
   "source": [
    "# plot training history\n",
    "def plot_history(history, title):\n",
    "    plt.figure(figsize=(12, 4))\n",
    "    \n",
    "    # plot accuracy\n",
    "    plt.subplot(1, 2, 1)\n",
    "    plt.plot(history['train_acc'], label='Train')\n",
    "    plt.plot(history['val_acc'], label='Validation')\n",
    "    plt.title(f'{title} - Accuracy')\n",
    "    plt.xlabel('Epoch')\n",
    "    plt.ylabel('Accuracy')\n",
    "    plt.legend()\n",
    "    \n",
    "    # plot loss\n",
    "    plt.subplot(1, 2, 2)\n",
    "    plt.plot(history['train_loss'], label='Train')\n",
    "    plt.plot(history['val_loss'], label='Validation')\n",
    "    plt.title(f'{title} - Loss')\n",
    "    plt.xlabel('Epoch')\n",
    "    plt.ylabel('Loss')\n",
    "    plt.legend()\n",
    "    \n",
    "    plt.tight_layout()\n",
    "    plt.show()"
   ]
  },
  {
   "cell_type": "code",
   "execution_count": 15,
   "id": "b205c3c1",
   "metadata": {},
   "outputs": [],
   "source": [
    "# initialize and train the VGG11 model\n",
    "vgg11_model = create_vgg11_model()\n",
    "\n",
    "# setup loss function, optimizer and scheduler\n",
    "criterion = nn.CrossEntropyLoss()\n",
    "\n",
    "# only optimize parameters that require gradients\n",
    "optimizer = optim.Adam(filter(lambda p: p.requires_grad, vgg11_model.parameters()), lr=0.001)\n",
    "\n",
    "# learning rate scheduler to reduce LR after a few epochs\n",
    "scheduler = optim.lr_scheduler.StepLR(optimizer, step_size=3, gamma=0.1)"
   ]
  },
  {
   "cell_type": "code",
   "execution_count": 16,
   "id": "c9854edd",
   "metadata": {},
   "outputs": [
    {
     "name": "stdout",
     "output_type": "stream",
     "text": [
      "\n",
      "Training VGG11 for Knee Osteoarthritis Classification...\n",
      "Epoch 1/10\n",
      "----------\n",
      "train Loss: 1.4328 Acc: 0.3866\n",
      "val Loss: 1.3764 Acc: 0.4007\n",
      "\n",
      "Epoch 2/10\n",
      "----------\n",
      "train Loss: 1.2222 Acc: 0.4865\n",
      "val Loss: 1.0433 Acc: 0.5775\n",
      "\n",
      "Epoch 3/10\n",
      "----------\n",
      "train Loss: 1.0121 Acc: 0.5807\n",
      "val Loss: 1.1010 Acc: 0.5254\n",
      "\n",
      "Epoch 4/10\n",
      "----------\n",
      "train Loss: 0.8557 Acc: 0.6430\n",
      "val Loss: 0.9115 Acc: 0.6247\n",
      "\n",
      "Epoch 5/10\n",
      "----------\n",
      "train Loss: 0.7944 Acc: 0.6677\n",
      "val Loss: 0.8884 Acc: 0.6320\n",
      "\n",
      "Epoch 6/10\n",
      "----------\n",
      "train Loss: 0.7574 Acc: 0.6828\n",
      "val Loss: 0.8778 Acc: 0.6223\n",
      "\n",
      "Epoch 7/10\n",
      "----------\n",
      "train Loss: 0.7257 Acc: 0.6978\n",
      "val Loss: 0.8760 Acc: 0.6404\n",
      "\n",
      "Epoch 8/10\n",
      "----------\n",
      "train Loss: 0.7236 Acc: 0.6982\n",
      "val Loss: 0.8747 Acc: 0.6404\n",
      "\n",
      "Epoch 9/10\n",
      "----------\n",
      "train Loss: 0.7156 Acc: 0.6945\n",
      "val Loss: 0.8759 Acc: 0.6416\n",
      "\n",
      "Epoch 10/10\n",
      "----------\n",
      "train Loss: 0.7066 Acc: 0.7020\n",
      "val Loss: 0.8770 Acc: 0.6380\n",
      "\n",
      "Training complete in 106m 9s\n",
      "Best val Acc: 0.6416\n"
     ]
    }
   ],
   "source": [
    "# train the model\n",
    "print(\"\\nTraining VGG11 for Knee Osteoarthritis Classification...\")\n",
    "vgg11_model, vgg11_history = train_model(\n",
    "    vgg11_model, \n",
    "    criterion, \n",
    "    optimizer, \n",
    "    scheduler, \n",
    "    num_epochs=10\n",
    ")"
   ]
  },
  {
   "cell_type": "code",
   "execution_count": 17,
   "id": "32cf47ee",
   "metadata": {},
   "outputs": [
    {
     "name": "stdout",
     "output_type": "stream",
     "text": [
      "\n",
      "Evaluating on test set...\n",
      "Test Accuracy: 0.6751\n"
     ]
    }
   ],
   "source": [
    "# evaluate on test set\n",
    "print(\"\\nEvaluating on test set...\")\n",
    "vgg11_acc = test_model(vgg11_model, dataloaders['test'])"
   ]
  },
  {
   "cell_type": "code",
   "execution_count": 18,
   "id": "93888f58",
   "metadata": {},
   "outputs": [
    {
     "data": {
      "image/png": "[encoded data removed]",
      "text/plain": [
       "<Figure size 1200x400 with 2 Axes>"
      ]
     },
     "metadata": {},
     "output_type": "display_data"
    }
   ],
   "source": [
    "# plot results\n",
    "plot_history(vgg11_history, \"VGG11 for Knee Osteoarthritis\")"
   ]
  },
  {
   "cell_type": "code",
   "execution_count": 19,
   "id": "96d585f2",
   "metadata": {},
   "outputs": [
    {
     "name": "stdout",
     "output_type": "stream",
     "text": [
      "\n",
      "Model saved as 'vgg11_knee_oa.pth'\n"
     ]
    }
   ],
   "source": [
    "# save the trained model\n",
    "torch.save(vgg11_model.state_dict(), \"vgg11_knee_oa.pth\")\n",
    "print(\"\\nModel saved as 'vgg11_knee_oa.pth'\")"
   ]
  },
  {
   "cell_type": "code",
   "execution_count": 20,
   "id": "85abaea8",
   "metadata": {},
   "outputs": [
    {
     "name": "stdout",
     "output_type": "stream",
     "text": [
      "\n",
      "Final test accuracy: 0.6751\n"
     ]
    }
   ],
   "source": [
    "# Show final results\n",
    "print(f\"\\nFinal test accuracy: {vgg11_acc:.4f}\")"
   ]
  }
 ],
 "metadata": {
  "kernelspec": {
   "display_name": ".venv",
   "language": "python",
   "name": "python3"
  },
  "language_info": {
   "codemirror_mode": {
    "name": "ipython",
    "version": 3
   },
   "file_extension": ".py",
   "mimetype": "text/x-python",
   "name": "python",
   "nbconvert_exporter": "python",
   "pygments_lexer": "ipython3",
   "version": "3.13.1"
  }
 },
 "nbformat": 4,
 "nbformat_minor": 5
}
