{
  "cells": [
    {
      "cell_type": "code",
      "execution_count": 1,
      "id": "53bdc264-7cce-4a2d-bc62-88a70d720a8b",
      "metadata": {
        "tags": [],
        "colab": {
          "base_uri": "https://localhost:8080/"
        },
        "id": "53bdc264-7cce-4a2d-bc62-88a70d720a8b",
        "outputId": "18586cfd-9185-42e9-f862-e60293262eca"
      },
      "outputs": [
        {
          "output_type": "stream",
          "name": "stdout",
          "text": [
            "Path to dataset files: /kaggle/input/knee-osteoarthritis-dataset-with-severity\n"
          ]
        }
      ],
      "source": [
        "import kagglehub\n",
        "\n",
        "# Download latest version\n",
        "path = kagglehub.dataset_download(\"shashwatwork/knee-osteoarthritis-dataset-with-severity\")\n",
        "\n",
        "print(\"Path to dataset files:\", path)"
      ]
    },
    {
      "cell_type": "code",
      "execution_count": 2,
      "id": "696f8625-44f8-4179-939a-9720c0553141",
      "metadata": {
        "tags": [],
        "id": "696f8625-44f8-4179-939a-9720c0553141"
      },
      "outputs": [],
      "source": [
        "import kagglehub\n",
        "import os\n",
        "import torch\n",
        "import torch.nn as nn\n",
        "import torch.optim as optim\n",
        "from torch.utils.data import DataLoader, Dataset\n",
        "from torchvision import transforms, models\n",
        "from PIL import Image"
      ]
    },
    {
      "cell_type": "code",
      "execution_count": 3,
      "id": "dd989d43-bbfc-47c4-852b-5d0a2f28806c",
      "metadata": {
        "tags": [],
        "id": "dd989d43-bbfc-47c4-852b-5d0a2f28806c"
      },
      "outputs": [],
      "source": [
        "path = \"/kaggle/input/knee-osteoarthritis-dataset-with-severity\"\n",
        "train_dir = os.path.join(path, \"train\")\n",
        "val_dir = os.path.join(path, \"val\")\n",
        "test_dir = os.path.join(path, \"test\")"
      ]
    },
    {
      "cell_type": "code",
      "execution_count": 4,
      "id": "124e6e3e-8120-414f-9509-1e4670e7ef48",
      "metadata": {
        "id": "124e6e3e-8120-414f-9509-1e4670e7ef48"
      },
      "outputs": [],
      "source": [
        "import torch.nn.functional as F\n",
        "\n",
        "def asymmetric_penalty_loss(outputs, targets):\n",
        "    # outputs: raw logits of shape (batch_size, num_classes)\n",
        "    # targets: ground truth labels of shape (batch_size)\n",
        "\n",
        "    log_probs = F.log_softmax(outputs, dim=1)  # Convert logits to log probabilities\n",
        "    probs = torch.exp(log_probs)  # shape: (batch_size, num_classes)\n",
        "\n",
        "    batch_size, num_classes = probs.shape\n",
        "    range_tensor = torch.arange(num_classes, device=targets.device).unsqueeze(0).expand(batch_size, -1)\n",
        "\n",
        "    # Expand targets to match output shape\n",
        "    targets_expanded = targets.unsqueeze(1).expand_as(probs)\n",
        "\n",
        "    # Compute the penalty matrix\n",
        "    penalty = torch.ones_like(probs)\n",
        "    penalty[range_tensor < targets_expanded] = 5  # Underestimation penalty\n",
        "    # Overestimation or correct guess has penalty = 1.0\n",
        "\n",
        "    # Get the loss: Negative Log Likelihood weighted by penalty\n",
        "    loss = -penalty * log_probs\n",
        "    loss = loss.gather(1, targets.unsqueeze(1)).squeeze(1)\n",
        "\n",
        "    return loss.mean()\n"
      ]
    },
    {
      "cell_type": "code",
      "execution_count": 5,
      "id": "d4e64b05-3be1-4a7a-976f-04b816b60852",
      "metadata": {
        "tags": [],
        "id": "d4e64b05-3be1-4a7a-976f-04b816b60852"
      },
      "outputs": [],
      "source": [
        "class KneeOADataset(Dataset):\n",
        "    def __init__(self, root_dir, transform=None):\n",
        "        self.root_dir = root_dir\n",
        "        self.transform = transform\n",
        "        self.image_paths = []\n",
        "        self.labels = []\n",
        "\n",
        "        for label in range(5):  # Labels: 0 to 4\n",
        "            label_dir = os.path.join(root_dir, str(label))\n",
        "            if os.path.exists(label_dir):\n",
        "                for img_name in os.listdir(label_dir):\n",
        "                    self.image_paths.append(os.path.join(label_dir, img_name))\n",
        "                    self.labels.append(label)\n",
        "\n",
        "    def __len__(self):\n",
        "        return len(self.image_paths)\n",
        "\n",
        "    def __getitem__(self, idx):\n",
        "        img_path = self.image_paths[idx]\n",
        "        image = Image.open(img_path).convert(\"RGB\")\n",
        "        label = self.labels[idx]\n",
        "\n",
        "        if self.transform:\n",
        "            image = self.transform(image)\n",
        "\n",
        "        return image, label"
      ]
    },
    {
      "cell_type": "code",
      "execution_count": 6,
      "id": "b8f0b976-ac1a-4365-a37d-577feb12ef80",
      "metadata": {
        "tags": [],
        "id": "b8f0b976-ac1a-4365-a37d-577feb12ef80"
      },
      "outputs": [],
      "source": [
        "transform = transforms.Compose([\n",
        "    transforms.Resize((224, 224)),\n",
        "    transforms.ToTensor(),\n",
        "    transforms.Normalize([0.485, 0.456, 0.406], [0.229, 0.224, 0.225])\n",
        "])"
      ]
    },
    {
      "cell_type": "code",
      "execution_count": 7,
      "id": "e01ca7b1-9af8-40ee-a362-16853c5df119",
      "metadata": {
        "tags": [],
        "id": "e01ca7b1-9af8-40ee-a362-16853c5df119"
      },
      "outputs": [],
      "source": [
        "train_dataset = KneeOADataset(train_dir, transform=transform)\n",
        "val_dataset = KneeOADataset(val_dir, transform=transform)\n",
        "test_dataset = KneeOADataset(test_dir, transform=transform)\n",
        "\n",
        "train_loader = DataLoader(train_dataset, batch_size=32, shuffle=True)\n",
        "val_loader = DataLoader(val_dataset, batch_size=32, shuffle=False)\n",
        "test_loader = DataLoader(test_dataset, batch_size=32, shuffle=False)"
      ]
    },
    {
      "cell_type": "code",
      "execution_count": 8,
      "id": "bc7780c8-ed8e-4984-ae87-1c8a0ec3ea9b",
      "metadata": {
        "tags": [],
        "colab": {
          "base_uri": "https://localhost:8080/"
        },
        "id": "bc7780c8-ed8e-4984-ae87-1c8a0ec3ea9b",
        "outputId": "fc221624-60c2-4e34-a6e0-ec02e81f95d4"
      },
      "outputs": [
        {
          "output_type": "stream",
          "name": "stderr",
          "text": [
            "/usr/local/lib/python3.11/dist-packages/torchvision/models/_utils.py:208: UserWarning: The parameter 'pretrained' is deprecated since 0.13 and may be removed in the future, please use 'weights' instead.\n",
            "  warnings.warn(\n",
            "/usr/local/lib/python3.11/dist-packages/torchvision/models/_utils.py:223: UserWarning: Arguments other than a weight enum or `None` for 'weights' are deprecated since 0.13 and may be removed in the future. The current behavior is equivalent to passing `weights=ResNet18_Weights.IMAGENET1K_V1`. You can also use `weights=ResNet18_Weights.DEFAULT` to get the most up-to-date weights.\n",
            "  warnings.warn(msg)\n"
          ]
        }
      ],
      "source": [
        "device = torch.device(\"cuda\" if torch.cuda.is_available() else \"cpu\")\n",
        "model = models.resnet18(pretrained=True)\n",
        "model2 = models.resnet18(pretrained=True)"
      ]
    },
    {
      "cell_type": "code",
      "execution_count": 9,
      "id": "9dc19308-ed4d-4d9a-810b-04edbaaa5e10",
      "metadata": {
        "tags": [],
        "id": "9dc19308-ed4d-4d9a-810b-04edbaaa5e10"
      },
      "outputs": [],
      "source": [
        "num_ftrs = model.fc.in_features\n",
        "model.fc = nn.Linear(num_ftrs, 5)\n",
        "model = model.to(device)\n",
        "model2.fc = nn.Linear(num_ftrs, 5)\n",
        "model2 = model2.to(device)"
      ]
    },
    {
      "cell_type": "code",
      "execution_count": 10,
      "id": "7f205919-4a65-4671-bdb5-2779ce917868",
      "metadata": {
        "tags": [],
        "id": "7f205919-4a65-4671-bdb5-2779ce917868"
      },
      "outputs": [],
      "source": [
        "criterion = nn.CrossEntropyLoss()\n",
        "optimizer = optim.Adam(model.parameters(), lr=0.001)"
      ]
    },
    {
      "cell_type": "markdown",
      "source": [
        "## Model with Cross Entropy Loss"
      ],
      "metadata": {
        "id": "lEhQ926sbFQm"
      },
      "id": "lEhQ926sbFQm"
    },
    {
      "cell_type": "code",
      "execution_count": 11,
      "id": "da108042-1176-4516-bd9e-593bc5585b13",
      "metadata": {
        "tags": [],
        "colab": {
          "base_uri": "https://localhost:8080/"
        },
        "id": "da108042-1176-4516-bd9e-593bc5585b13",
        "outputId": "2aee2803-5d8e-4fdb-d0a6-c0808b8130ad"
      },
      "outputs": [
        {
          "output_type": "stream",
          "name": "stdout",
          "text": [
            "Epoch 1, Loss: 1.1662, Accuracy: 50.45%\n",
            "Epoch 2, Loss: 0.9532, Accuracy: 60.35%\n",
            "Epoch 3, Loss: 0.8902, Accuracy: 62.95%\n",
            "Epoch 4, Loss: 0.8206, Accuracy: 65.54%\n",
            "Epoch 5, Loss: 0.7779, Accuracy: 67.45%\n",
            "Epoch 6, Loss: 0.7065, Accuracy: 70.58%\n",
            "Epoch 7, Loss: 0.6234, Accuracy: 73.52%\n",
            "Epoch 8, Loss: 0.5601, Accuracy: 76.70%\n",
            "Epoch 9, Loss: 0.5054, Accuracy: 78.75%\n",
            "Epoch 10, Loss: 0.4068, Accuracy: 83.13%\n"
          ]
        }
      ],
      "source": [
        "epochs = 10\n",
        "for epoch in range(epochs):\n",
        "    model.train()\n",
        "    running_loss = 0.0\n",
        "    correct = 0\n",
        "    total = 0\n",
        "\n",
        "    for images, labels in train_loader:\n",
        "        images, labels = images.to(device), labels.to(device)\n",
        "        optimizer.zero_grad()\n",
        "        outputs = model(images)\n",
        "        loss = criterion(outputs, labels)\n",
        "        loss.backward()\n",
        "        optimizer.step()\n",
        "\n",
        "        running_loss += loss.item()\n",
        "        _, predicted = outputs.max(1)\n",
        "        correct += predicted.eq(labels).sum().item()\n",
        "        total += labels.size(0)\n",
        "\n",
        "    print(f\"Epoch {epoch+1}, Loss: {running_loss/len(train_loader):.4f}, Accuracy: {100 * correct/total:.2f}%\")\n",
        "\n",
        "# Save model\n",
        "torch.save(model.state_dict(), \"resnet_knee_oa.pth\")"
      ]
    },
    {
      "cell_type": "markdown",
      "source": [
        "## Model with Underestimation Penalty"
      ],
      "metadata": {
        "id": "102QxkTwbfrw"
      },
      "id": "102QxkTwbfrw"
    },
    {
      "cell_type": "code",
      "execution_count": 12,
      "id": "3839c535-67c4-46fc-b61a-e35644e74d49",
      "metadata": {
        "id": "3839c535-67c4-46fc-b61a-e35644e74d49",
        "colab": {
          "base_uri": "https://localhost:8080/"
        },
        "outputId": "fe1d8532-e106-465d-ab60-a5c104d5f05c"
      },
      "outputs": [
        {
          "output_type": "stream",
          "name": "stdout",
          "text": [
            "Epoch 1, Loss: 2.0159, Accuracy: 20.25%\n",
            "Epoch 2, Loss: 2.0167, Accuracy: 20.13%\n",
            "Epoch 3, Loss: 2.0133, Accuracy: 20.30%\n",
            "Epoch 4, Loss: 2.0141, Accuracy: 20.68%\n",
            "Epoch 5, Loss: 2.0169, Accuracy: 20.37%\n",
            "Epoch 6, Loss: 2.0148, Accuracy: 20.37%\n",
            "Epoch 7, Loss: 2.0165, Accuracy: 20.53%\n",
            "Epoch 8, Loss: 2.0181, Accuracy: 19.85%\n",
            "Epoch 9, Loss: 2.0160, Accuracy: 20.15%\n",
            "Epoch 10, Loss: 2.0171, Accuracy: 20.39%\n"
          ]
        }
      ],
      "source": [
        "epochs = 10\n",
        "for epoch in range(epochs):\n",
        "    model2.train()\n",
        "    running_loss = 0.0\n",
        "    correct = 0\n",
        "    total = 0\n",
        "\n",
        "    for images, labels in train_loader:\n",
        "        images, labels = images.to(device), labels.to(device)\n",
        "        optimizer.zero_grad()\n",
        "        outputs = model2(images)\n",
        "        loss = asymmetric_penalty_loss(outputs, labels)\n",
        "        loss.backward()\n",
        "        optimizer.step()\n",
        "\n",
        "        running_loss += loss.item()\n",
        "        _, predicted = outputs.max(1)\n",
        "        correct += predicted.eq(labels).sum().item()\n",
        "        total += labels.size(0)\n",
        "\n",
        "    print(f\"Epoch {epoch+1}, Loss: {running_loss/len(train_loader):.4f}, Accuracy: {100 * correct/total:.2f}%\")\n",
        "\n",
        "# Save model\n",
        "torch.save(model2.state_dict(), \"resnet_knee_oa2.pth\")"
      ]
    },
    {
      "cell_type": "markdown",
      "source": [
        "## Model Evaluation"
      ],
      "metadata": {
        "id": "8ZPmQLnebtWh"
      },
      "id": "8ZPmQLnebtWh"
    },
    {
      "cell_type": "code",
      "source": [
        "def evaluate_model(model, dataloader, loss_fn, device):\n",
        "    model.eval()\n",
        "    total_loss = 0.0\n",
        "    correct = 0\n",
        "    total = 0\n",
        "\n",
        "    with torch.no_grad():\n",
        "        for inputs, labels in dataloader:\n",
        "            inputs, labels = inputs.to(device), labels.to(device)\n",
        "            outputs = model(inputs)\n",
        "            loss = loss_fn(outputs, labels)\n",
        "            total_loss += loss.item() * inputs.size(0)\n",
        "\n",
        "            preds = outputs.argmax(dim=1)\n",
        "            correct += (preds == labels).sum().item()\n",
        "            total += labels.size(0)\n",
        "\n",
        "    avg_loss = total_loss / total\n",
        "    accuracy = 100 * correct / total\n",
        "    return avg_loss, accuracy"
      ],
      "metadata": {
        "id": "NBUiwieAXCcz"
      },
      "id": "NBUiwieAXCcz",
      "execution_count": 13,
      "outputs": []
    },
    {
      "cell_type": "code",
      "execution_count": 14,
      "id": "77a15157-c1fc-4412-8d8a-012073ee829b",
      "metadata": {
        "colab": {
          "base_uri": "https://localhost:8080/"
        },
        "id": "77a15157-c1fc-4412-8d8a-012073ee829b",
        "outputId": "067920bc-d132-49ad-db9c-407c29331ca3"
      },
      "outputs": [
        {
          "output_type": "stream",
          "name": "stdout",
          "text": [
            "Validation Loss: 1.4103, Accuracy: 57.87%\n"
          ]
        }
      ],
      "source": [
        "val_loss, val_acc = evaluate_model(model, val_loader, asymmetric_penalty_loss, device)\n",
        "print(f\"Validation Loss: {val_loss:.4f}, Accuracy: {val_acc:.2f}%\")\n"
      ]
    },
    {
      "cell_type": "code",
      "execution_count": 15,
      "id": "8b7c28cd-649c-4b5c-9067-8dba0b3b2844",
      "metadata": {
        "colab": {
          "base_uri": "https://localhost:8080/"
        },
        "id": "8b7c28cd-649c-4b5c-9067-8dba0b3b2844",
        "outputId": "fa3446b9-9d7b-4d64-efbf-e815185d1f7e"
      },
      "outputs": [
        {
          "output_type": "stream",
          "name": "stdout",
          "text": [
            "Test Loss: 1.1652, Accuracy: 62.32%\n"
          ]
        }
      ],
      "source": [
        "test_loss, test_acc = evaluate_model(model, test_loader, asymmetric_penalty_loss, device)\n",
        "print(f\"Test Loss: {test_loss:.4f}, Accuracy: {test_acc:.2f}%\")\n"
      ]
    },
    {
      "cell_type": "markdown",
      "source": [
        "## Confusion Matrix"
      ],
      "metadata": {
        "id": "W7Nz7esBa01s"
      },
      "id": "W7Nz7esBa01s"
    },
    {
      "cell_type": "code",
      "source": [
        "from sklearn.metrics import confusion_matrix\n",
        "import numpy as np\n",
        "\n",
        "def get_confusion_matrix(model, data_loader, device):\n",
        "    model.eval()\n",
        "    all_preds = []\n",
        "    all_labels = []\n",
        "\n",
        "    with torch.no_grad():\n",
        "        for images, labels in data_loader:\n",
        "            images, labels = images.to(device), labels.to(device)\n",
        "            outputs = model(images)\n",
        "            _, predicted = outputs.max(1)\n",
        "            all_preds.extend(predicted.cpu().numpy())\n",
        "            all_labels.extend(labels.cpu().numpy())\n",
        "\n",
        "    cm = confusion_matrix(all_labels, all_preds, labels=[0, 1, 2, 3, 4])\n",
        "    return cm"
      ],
      "metadata": {
        "id": "_GZ9PWASXVca"
      },
      "id": "_GZ9PWASXVca",
      "execution_count": 16,
      "outputs": []
    },
    {
      "cell_type": "code",
      "source": [
        "get_confusion_matrix(model, test_loader, device)"
      ],
      "metadata": {
        "colab": {
          "base_uri": "https://localhost:8080/"
        },
        "id": "4qAkq_RBbyMM",
        "outputId": "2032e5ec-74d8-4e65-e4ba-d1ce9879e181"
      },
      "id": "4qAkq_RBbyMM",
      "execution_count": 17,
      "outputs": [
        {
          "output_type": "execute_result",
          "data": {
            "text/plain": [
              "array([[491,  74,  70,   4,   0],\n",
              "       [144,  67,  75,  10,   0],\n",
              "       [ 66,  69, 266,  46,   0],\n",
              "       [  1,   7,  32, 165,  18],\n",
              "       [  0,   0,   2,   6,  43]])"
            ]
          },
          "metadata": {},
          "execution_count": 17
        }
      ]
    },
    {
      "cell_type": "code",
      "source": [
        "get_confusion_matrix(model2, test_loader, device)"
      ],
      "metadata": {
        "colab": {
          "base_uri": "https://localhost:8080/"
        },
        "id": "Kq6s_qDkZzAt",
        "outputId": "fd402dd9-4989-4a15-bd0e-159da3b6ba62"
      },
      "id": "Kq6s_qDkZzAt",
      "execution_count": 18,
      "outputs": [
        {
          "output_type": "execute_result",
          "data": {
            "text/plain": [
              "array([[  0,   5, 369, 176,  89],\n",
              "       [  0,   6, 171,  72,  47],\n",
              "       [  0,   5, 272, 113,  57],\n",
              "       [  0,   0, 133,  57,  33],\n",
              "       [  0,   0,  27,  13,  11]])"
            ]
          },
          "metadata": {},
          "execution_count": 18
        }
      ]
    }
  ],
  "metadata": {
    "kernelspec": {
      "display_name": "Python 3",
      "name": "python3"
    },
    "language_info": {
      "codemirror_mode": {
        "name": "ipython",
        "version": 3
      },
      "file_extension": ".py",
      "mimetype": "text/x-python",
      "name": "python",
      "nbconvert_exporter": "python",
      "pygments_lexer": "ipython3",
      "version": "3.11.4"
    },
    "vscode": {
      "interpreter": {
        "hash": "56ec68eb7dcfc5e71f308b1145c2915d72d5c9872151048401805602f79c6c8b"
      }
    },
    "colab": {
      "provenance": [],
      "machine_shape": "hm",
      "gpuType": "A100"
    },
    "accelerator": "GPU"
  },
  "nbformat": 4,
  "nbformat_minor": 5
}