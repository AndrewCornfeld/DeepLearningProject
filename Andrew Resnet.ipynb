{
 "cells": [
  {
   "cell_type": "code",
   "execution_count": 8,
   "id": "53bdc264-7cce-4a2d-bc62-88a70d720a8b",
   "metadata": {
    "tags": []
   },
   "outputs": [
    {
     "name": "stdout",
     "output_type": "stream",
     "text": [
      "Path to dataset files: /home/cpm6gh/.cache/kagglehub/datasets/shashwatwork/knee-osteoarthritis-dataset-with-severity/versions/1\n"
     ]
    }
   ],
   "source": [
    "import kagglehub\n",
    "\n",
    "# Download latest version\n",
    "path = kagglehub.dataset_download(\"shashwatwork/knee-osteoarthritis-dataset-with-severity\")\n",
    "\n",
    "print(\"Path to dataset files:\", path)"
   ]
  },
  {
   "cell_type": "code",
   "execution_count": 9,
   "id": "696f8625-44f8-4179-939a-9720c0553141",
   "metadata": {
    "tags": []
   },
   "outputs": [],
   "source": [
    "import kagglehub\n",
    "import os\n",
    "import torch\n",
    "import torch.nn as nn\n",
    "import torch.optim as optim\n",
    "from torch.utils.data import DataLoader, Dataset\n",
    "from torchvision import transforms, models\n",
    "from PIL import Image"
   ]
  },
  {
   "cell_type": "code",
   "execution_count": 10,
   "id": "dd989d43-bbfc-47c4-852b-5d0a2f28806c",
   "metadata": {
    "tags": []
   },
   "outputs": [],
   "source": [
    "path = \"/home/cpm6gh/.cache/kagglehub/datasets/shashwatwork/knee-osteoarthritis-dataset-with-severity/versions/1\"\n",
    "train_dir = os.path.join(path, \"train\")\n",
    "val_dir = os.path.join(path, \"val\")\n",
    "test_dir = os.path.join(path, \"test\")"
   ]
  },
  {
   "cell_type": "code",
   "execution_count": null,
   "id": "124e6e3e-8120-414f-9509-1e4670e7ef48",
   "metadata": {},
   "outputs": [],
   "source": [
    "import torch.nn.functional as F\n",
    "\n",
    "def asymmetric_penalty_loss(outputs, targets):\n",
    "    # outputs: raw logits of shape (batch_size, num_classes)\n",
    "    # targets: ground truth labels of shape (batch_size)\n",
    "\n",
    "    log_probs = F.log_softmax(outputs, dim=1)  # Convert logits to log probabilities\n",
    "    probs = torch.exp(log_probs)  # shape: (batch_size, num_classes)\n",
    "    \n",
    "    batch_size, num_classes = probs.shape\n",
    "    range_tensor = torch.arange(num_classes, device=targets.device).unsqueeze(0).expand(batch_size, -1)\n",
    "\n",
    "    # Expand targets to match output shape\n",
    "    targets_expanded = targets.unsqueeze(1).expand_as(probs)\n",
    "\n",
    "    # Compute the penalty matrix\n",
    "    penalty = torch.ones_like(probs)\n",
    "    penalty[range_tensor < targets_expanded] = 1  # Underestimation penalty\n",
    "    # Overestimation or correct guess has penalty = 1.0\n",
    "\n",
    "    # Get the loss: Negative Log Likelihood weighted by penalty\n",
    "    loss = -penalty * log_probs\n",
    "    loss = loss.gather(1, targets.unsqueeze(1)).squeeze(1)\n",
    "    \n",
    "    return loss.mean()\n"
   ]
  },
  {
   "cell_type": "code",
   "execution_count": 14,
   "id": "d4e64b05-3be1-4a7a-976f-04b816b60852",
   "metadata": {
    "tags": []
   },
   "outputs": [],
   "source": [
    "class KneeOADataset(Dataset):\n",
    "    def __init__(self, root_dir, transform=None):\n",
    "        self.root_dir = root_dir\n",
    "        self.transform = transform\n",
    "        self.image_paths = []\n",
    "        self.labels = []\n",
    "        \n",
    "        for label in range(5):  # Labels: 0 to 4\n",
    "            label_dir = os.path.join(root_dir, str(label))\n",
    "            if os.path.exists(label_dir):\n",
    "                for img_name in os.listdir(label_dir):\n",
    "                    self.image_paths.append(os.path.join(label_dir, img_name))\n",
    "                    self.labels.append(label)\n",
    "\n",
    "    def __len__(self):\n",
    "        return len(self.image_paths)\n",
    "\n",
    "    def __getitem__(self, idx):\n",
    "        img_path = self.image_paths[idx]\n",
    "        image = Image.open(img_path).convert(\"RGB\")\n",
    "        label = self.labels[idx]\n",
    "        \n",
    "        if self.transform:\n",
    "            image = self.transform(image)\n",
    "        \n",
    "        return image, label"
   ]
  },
  {
   "cell_type": "code",
   "execution_count": 16,
   "id": "b8f0b976-ac1a-4365-a37d-577feb12ef80",
   "metadata": {
    "tags": []
   },
   "outputs": [],
   "source": [
    "transform = transforms.Compose([\n",
    "    transforms.Resize((224, 224)),\n",
    "    transforms.ToTensor(),\n",
    "    transforms.Normalize([0.485, 0.456, 0.406], [0.229, 0.224, 0.225])\n",
    "])"
   ]
  },
  {
   "cell_type": "code",
   "execution_count": 17,
   "id": "e01ca7b1-9af8-40ee-a362-16853c5df119",
   "metadata": {
    "tags": []
   },
   "outputs": [],
   "source": [
    "train_dataset = KneeOADataset(train_dir, transform=transform)\n",
    "val_dataset = KneeOADataset(val_dir, transform=transform)\n",
    "test_dataset = KneeOADataset(test_dir, transform=transform)\n",
    "\n",
    "train_loader = DataLoader(train_dataset, batch_size=32, shuffle=True)\n",
    "val_loader = DataLoader(val_dataset, batch_size=32, shuffle=False)\n",
    "test_loader = DataLoader(test_dataset, batch_size=32, shuffle=False)"
   ]
  },
  {
   "cell_type": "code",
   "execution_count": 18,
   "id": "bc7780c8-ed8e-4984-ae87-1c8a0ec3ea9b",
   "metadata": {
    "tags": []
   },
   "outputs": [
    {
     "name": "stderr",
     "output_type": "stream",
     "text": [
      "/home/cpm6gh/.local/lib/python3.11/site-packages/torchvision/models/_utils.py:208: UserWarning: The parameter 'pretrained' is deprecated since 0.13 and may be removed in the future, please use 'weights' instead.\n",
      "  warnings.warn(\n",
      "/home/cpm6gh/.local/lib/python3.11/site-packages/torchvision/models/_utils.py:223: UserWarning: Arguments other than a weight enum or `None` for 'weights' are deprecated since 0.13 and may be removed in the future. The current behavior is equivalent to passing `weights=ResNet18_Weights.IMAGENET1K_V1`. You can also use `weights=ResNet18_Weights.DEFAULT` to get the most up-to-date weights.\n",
      "  warnings.warn(msg)\n"
     ]
    }
   ],
   "source": [
    "device = torch.device(\"cuda\" if torch.cuda.is_available() else \"cpu\")\n",
    "model = models.resnet18(pretrained=True)"
   ]
  },
  {
   "cell_type": "code",
   "execution_count": 19,
   "id": "9dc19308-ed4d-4d9a-810b-04edbaaa5e10",
   "metadata": {
    "tags": []
   },
   "outputs": [],
   "source": [
    "num_ftrs = model.fc.in_features\n",
    "model.fc = nn.Linear(num_ftrs, 5)\n",
    "model = model.to(device)"
   ]
  },
  {
   "cell_type": "code",
   "execution_count": 20,
   "id": "7f205919-4a65-4671-bdb5-2779ce917868",
   "metadata": {
    "tags": []
   },
   "outputs": [],
   "source": [
    "criterion = nn.CrossEntropyLoss()\n",
    "optimizer = optim.Adam(model.parameters(), lr=0.001)"
   ]
  },
  {
   "cell_type": "code",
   "execution_count": null,
   "id": "aa82d91d-0dd1-4fbb-88ec-2a981bc921a4",
   "metadata": {},
   "outputs": [],
   "source": []
  },
  {
   "cell_type": "code",
   "execution_count": 22,
   "id": "da108042-1176-4516-bd9e-593bc5585b13",
   "metadata": {
    "tags": []
   },
   "outputs": [
    {
     "name": "stdout",
     "output_type": "stream",
     "text": [
      "Epoch 1, Loss: 0.8960, Accuracy: 62.44%\n",
      "Epoch 2, Loss: 0.8134, Accuracy: 66.25%\n",
      "Epoch 3, Loss: 0.7610, Accuracy: 68.09%\n",
      "Epoch 4, Loss: 0.7049, Accuracy: 70.08%\n",
      "Epoch 5, Loss: 0.6284, Accuracy: 73.69%\n",
      "Epoch 6, Loss: 0.5470, Accuracy: 76.93%\n",
      "Epoch 7, Loss: 0.4836, Accuracy: 80.24%\n",
      "Epoch 8, Loss: 0.4364, Accuracy: 82.21%\n",
      "Epoch 9, Loss: 0.3283, Accuracy: 86.50%\n",
      "Epoch 10, Loss: 0.2975, Accuracy: 88.18%\n"
     ]
    }
   ],
   "source": [
    "epochs = 10\n",
    "for epoch in range(epochs):\n",
    "    model.train()\n",
    "    running_loss = 0.0\n",
    "    correct = 0\n",
    "    total = 0\n",
    "    \n",
    "    for images, labels in train_loader:\n",
    "        images, labels = images.to(device), labels.to(device)\n",
    "        optimizer.zero_grad()\n",
    "        outputs = model(images)\n",
    "        loss = asymmetric_penalty_loss(outputs, labels)\n",
    "        loss.backward()\n",
    "        optimizer.step()\n",
    "        \n",
    "        running_loss += loss.item()\n",
    "        _, predicted = outputs.max(1)\n",
    "        correct += predicted.eq(labels).sum().item()\n",
    "        total += labels.size(0)\n",
    "    \n",
    "    print(f\"Epoch {epoch+1}, Loss: {running_loss/len(train_loader):.4f}, Accuracy: {100 * correct/total:.2f}%\")\n",
    "\n",
    "# Save model\n",
    "torch.save(model.state_dict(), \"resnet_knee_oa.pth\")"
   ]
  },
  {
   "cell_type": "code",
   "execution_count": null,
   "id": "3839c535-67c4-46fc-b61a-e35644e74d49",
   "metadata": {},
   "outputs": [],
   "source": [
    "epochs = 10\n",
    "for epoch in range(epochs):\n",
    "    model.train()\n",
    "    running_loss = 0.0\n",
    "    correct = 0\n",
    "    total = 0\n",
    "    \n",
    "    for images, labels in train_loader:\n",
    "        images, labels = images.to(device), labels.to(device)\n",
    "        optimizer.zero_grad()\n",
    "        outputs = model(images)\n",
    "        loss = asymmetric_penalty_loss(outputs, labels)\n",
    "        loss.backward()\n",
    "        optimizer.step()\n",
    "        \n",
    "        running_loss += loss.item()\n",
    "        _, predicted = outputs.max(1)\n",
    "        correct += predicted.eq(labels).sum().item()\n",
    "        total += labels.size(0)\n",
    "    \n",
    "    print(f\"Epoch {epoch+1}, Loss: {running_loss/len(train_loader):.4f}, Accuracy: {100 * correct/total:.2f}%\")\n",
    "\n",
    "# Save model\n",
    "torch.save(model.state_dict(), \"resnet_knee_oa.pth\")"
   ]
  },
  {
   "cell_type": "code",
   "execution_count": null,
   "id": "77a15157-c1fc-4412-8d8a-012073ee829b",
   "metadata": {},
   "outputs": [],
   "source": [
    "val_loss, val_acc = evaluate_model(model, val_loader, asymmetric_penalty_loss, device)\n",
    "print(f\"Validation Loss: {val_loss:.4f}, Accuracy: {val_acc:.2f}%\")\n"
   ]
  },
  {
   "cell_type": "code",
   "execution_count": null,
   "id": "8b7c28cd-649c-4b5c-9067-8dba0b3b2844",
   "metadata": {},
   "outputs": [],
   "source": [
    "test_loss, test_acc = evaluate_model(model, test_loader, asymmetric_penalty_loss, device)\n",
    "print(f\"Test Loss: {test_loss:.4f}, Accuracy: {test_acc:.2f}%\")\n"
   ]
  }
 ],
 "metadata": {
  "kernelspec": {
   "display_name": "Python 3 (ipykernel)",
   "language": "python",
   "name": "python3"
  },
  "language_info": {
   "codemirror_mode": {
    "name": "ipython",
    "version": 3
   },
   "file_extension": ".py",
   "mimetype": "text/x-python",
   "name": "python",
   "nbconvert_exporter": "python",
   "pygments_lexer": "ipython3",
   "version": "3.11.4"
  },
  "vscode": {
   "interpreter": {
    "hash": "56ec68eb7dcfc5e71f308b1145c2915d72d5c9872151048401805602f79c6c8b"
   }
  }
 },
 "nbformat": 4,
 "nbformat_minor": 5
}
