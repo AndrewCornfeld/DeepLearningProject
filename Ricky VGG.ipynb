{
 "cells": [
  {
   "cell_type": "code",
   "execution_count": 8,
   "id": "53bdc264-7cce-4a2d-bc62-88a70d720a8b",
   "metadata": {
    "tags": []
   },
   "outputs": [
    {
     "name": "stdout",
     "output_type": "stream",
     "text": [
      "Path to dataset files: /home/cpm6gh/.cache/kagglehub/datasets/shashwatwork/knee-osteoarthritis-dataset-with-severity/versions/1\n"
     ]
    }
   ],
   "source": [
    "import kagglehub\n",
    "\n",
    "# Download latest version\n",
    "path = kagglehub.dataset_download(\"shashwatwork/knee-osteoarthritis-dataset-with-severity\")\n",
    "\n",
    "print(\"Path to dataset files:\", path)"
   ]
  },
  {
   "cell_type": "code",
   "execution_count": 9,
   "id": "696f8625-44f8-4179-939a-9720c0553141",
   "metadata": {
    "tags": []
   },
   "outputs": [],
   "source": [
    "import kagglehub\n",
    "import os\n",
    "import torch\n",
    "import torch.nn as nn\n",
    "import torch.optim as optim\n",
    "from torch.utils.data import DataLoader, Dataset\n",
    "from torchvision import transforms, models\n",
    "from PIL import Image"
   ]
  },
  {
   "cell_type": "code",
   "execution_count": 10,
   "id": "dd989d43-bbfc-47c4-852b-5d0a2f28806c",
   "metadata": {
    "tags": []
   },
   "outputs": [],
   "source": [
    "path = \"/home/cpm6gh/.cache/kagglehub/datasets/shashwatwork/knee-osteoarthritis-dataset-with-severity/versions/1\"\n",
    "train_dir = os.path.join(path, \"train\")\n",
    "val_dir = os.path.join(path, \"val\")\n",
    "test_dir = os.path.join(path, \"test\")"
   ]
  },
  {
   "cell_type": "code",
   "execution_count": 14,
   "id": "d4e64b05-3be1-4a7a-976f-04b816b60852",
   "metadata": {
    "tags": []
   },
   "outputs": [],
   "source": [
    "class KneeOADataset(Dataset):\n",
    "    def __init__(self, root_dir, transform=None):\n",
    "        self.root_dir = root_dir\n",
    "        self.transform = transform\n",
    "        self.image_paths = []\n",
    "        self.labels = []\n",
    "        \n",
    "        for label in range(5):  # Labels: 0 to 4\n",
    "            label_dir = os.path.join(root_dir, str(label))\n",
    "            if os.path.exists(label_dir):\n",
    "                for img_name in os.listdir(label_dir):\n",
    "                    self.image_paths.append(os.path.join(label_dir, img_name))\n",
    "                    self.labels.append(label)\n",
    "\n",
    "    def __len__(self):\n",
    "        return len(self.image_paths)\n",
    "\n",
    "    def __getitem__(self, idx):\n",
    "        img_path = self.image_paths[idx]\n",
    "        image = Image.open(img_path).convert(\"RGB\")\n",
    "        label = self.labels[idx]\n",
    "        \n",
    "        if self.transform:\n",
    "            image = self.transform(image)\n",
    "        \n",
    "        return image, label"
   ]
  },
  {
   "cell_type": "code",
   "execution_count": 16,
   "id": "b8f0b976-ac1a-4365-a37d-577feb12ef80",
   "metadata": {
    "tags": []
   },
   "outputs": [],
   "source": [
    "transform = transforms.Compose([\n",
    "    transforms.Resize((224, 224)),\n",
    "    transforms.ToTensor(),\n",
    "    transforms.Normalize([0.485, 0.456, 0.406], [0.229, 0.224, 0.225])\n",
    "])"
   ]
  },
  {
   "cell_type": "code",
   "execution_count": 17,
   "id": "e01ca7b1-9af8-40ee-a362-16853c5df119",
   "metadata": {
    "tags": []
   },
   "outputs": [],
   "source": [
    "train_dataset = KneeOADataset(train_dir, transform=transform)\n",
    "val_dataset = KneeOADataset(val_dir, transform=transform)\n",
    "test_dataset = KneeOADataset(test_dir, transform=transform)\n",
    "\n",
    "train_loader = DataLoader(train_dataset, batch_size=32, shuffle=True)\n",
    "val_loader = DataLoader(val_dataset, batch_size=32, shuffle=False)\n",
    "test_loader = DataLoader(test_dataset, batch_size=32, shuffle=False)"
   ]
  },
  {
   "cell_type": "code",
   "execution_count": 18,
   "id": "bc7780c8-ed8e-4984-ae87-1c8a0ec3ea9b",
   "metadata": {
    "tags": []
   },
   "outputs": [
    {
     "name": "stderr",
     "output_type": "stream",
     "text": [
      "/home/cpm6gh/.local/lib/python3.11/site-packages/torchvision/models/_utils.py:208: UserWarning: The parameter 'pretrained' is deprecated since 0.13 and may be removed in the future, please use 'weights' instead.\n",
      "  warnings.warn(\n",
      "/home/cpm6gh/.local/lib/python3.11/site-packages/torchvision/models/_utils.py:223: UserWarning: Arguments other than a weight enum or `None` for 'weights' are deprecated since 0.13 and may be removed in the future. The current behavior is equivalent to passing `weights=ResNet18_Weights.IMAGENET1K_V1`. You can also use `weights=ResNet18_Weights.DEFAULT` to get the most up-to-date weights.\n",
      "  warnings.warn(msg)\n"
     ]
    }
   ],
   "source": [
    "device = torch.device(\"cuda\" if torch.cuda.is_available() else \"cpu\")\n",
    "model = models.resnet18(pretrained=True)"
   ]
  },
  {
   "cell_type": "code",
   "execution_count": 19,
   "id": "9dc19308-ed4d-4d9a-810b-04edbaaa5e10",
   "metadata": {
    "tags": []
   },
   "outputs": [],
   "source": [
    "num_ftrs = model.fc.in_features\n",
    "model.fc = nn.Linear(num_ftrs, 5)\n",
    "model = model.to(device)"
   ]
  },
  {
   "cell_type": "code",
   "execution_count": 20,
   "id": "7f205919-4a65-4671-bdb5-2779ce917868",
   "metadata": {
    "tags": []
   },
   "outputs": [],
   "source": [
    "criterion = nn.CrossEntropyLoss()\n",
    "optimizer = optim.Adam(model.parameters(), lr=0.001)"
   ]
  },
  {
   "cell_type": "code",
   "execution_count": null,
   "id": "aa82d91d-0dd1-4fbb-88ec-2a981bc921a4",
   "metadata": {},
   "outputs": [],
   "source": []
  },
  {
   "cell_type": "code",
   "execution_count": 22,
   "id": "da108042-1176-4516-bd9e-593bc5585b13",
   "metadata": {
    "tags": []
   },
   "outputs": [
    {
     "name": "stdout",
     "output_type": "stream",
     "text": [
      "Epoch 1, Loss: 0.8960, Accuracy: 62.44%\n",
      "Epoch 2, Loss: 0.8134, Accuracy: 66.25%\n",
      "Epoch 3, Loss: 0.7610, Accuracy: 68.09%\n",
      "Epoch 4, Loss: 0.7049, Accuracy: 70.08%\n",
      "Epoch 5, Loss: 0.6284, Accuracy: 73.69%\n",
      "Epoch 6, Loss: 0.5470, Accuracy: 76.93%\n",
      "Epoch 7, Loss: 0.4836, Accuracy: 80.24%\n",
      "Epoch 8, Loss: 0.4364, Accuracy: 82.21%\n",
      "Epoch 9, Loss: 0.3283, Accuracy: 86.50%\n",
      "Epoch 10, Loss: 0.2975, Accuracy: 88.18%\n"
     ]
    }
   ],
   "source": [
    "epochs = 10\n",
    "for epoch in range(epochs):\n",
    "    model.train()\n",
    "    running_loss = 0.0\n",
    "    correct = 0\n",
    "    total = 0\n",
    "    \n",
    "    for images, labels in train_loader:\n",
    "        images, labels = images.to(device), labels.to(device)\n",
    "        optimizer.zero_grad()\n",
    "        outputs = model(images)\n",
    "        loss = criterion(outputs, labels)\n",
    "        loss.backward()\n",
    "        optimizer.step()\n",
    "        \n",
    "        running_loss += loss.item()\n",
    "        _, predicted = outputs.max(1)\n",
    "        correct += predicted.eq(labels).sum().item()\n",
    "        total += labels.size(0)\n",
    "    \n",
    "    print(f\"Epoch {epoch+1}, Loss: {running_loss/len(train_loader):.4f}, Accuracy: {100 * correct/total:.2f}%\")\n",
    "\n",
    "# Save model\n",
    "torch.save(model.state_dict(), \"resnet_knee_oa.pth\")"
   ]
  },
  {
   "cell_type": "markdown",
   "id": "e1896a7b",
   "metadata": {},
   "source": [
    "### My Implementation"
   ]
  },
  {
   "cell_type": "code",
   "execution_count": 4,
   "id": "d6929882",
   "metadata": {},
   "outputs": [],
   "source": [
    "# import packages\n",
    "import kagglehub\n",
    "import os\n",
    "import torch\n",
    "import torch.nn as nn\n",
    "import torch.optim as optim\n",
    "from torch.utils.data import DataLoader, Dataset,random_split\n",
    "from torchvision import transforms, models, datasets\n",
    "from torch import Generator\n",
    "from PIL import Image"
   ]
  },
  {
   "cell_type": "code",
   "execution_count": null,
   "id": "7f8548fd",
   "metadata": {},
   "outputs": [],
   "source": [
    "# setup data directories\n",
    "train_dir = \"/datasets/train\"\n",
    "val_dir = \"/datasets/val\"\n",
    "test_dir = \"/datasets/test\""
   ]
  },
  {
   "cell_type": "code",
   "execution_count": null,
   "id": "511be00b",
   "metadata": {},
   "outputs": [],
   "source": [
    "# set random seed for reproducibility\n",
    "def setup_seed(seed):\n",
    "    torch.manual_seed(seed)\n",
    "    torch.cuda.manual_seed_all(seed)\n",
    "    np.random.seed(seed)\n",
    "    torch.backends.cudnn.deterministic = True\n",
    "\n",
    "SEED = 42\n",
    "setup_seed(SEED)"
   ]
  },
  {
   "cell_type": "code",
   "execution_count": null,
   "id": "4e67a618",
   "metadata": {},
   "outputs": [],
   "source": [
    "# check for gpu\n",
    "device = torch.device(\"cuda\" if torch.cuda.is_available() else \"cpu\")\n",
    "print(f\"Using device: {device}\")"
   ]
  },
  {
   "cell_type": "code",
   "execution_count": null,
   "id": "ff73456a",
   "metadata": {},
   "outputs": [],
   "source": [
    "# data transforms\n",
    "data_transforms = {\n",
    "    'train': transforms.Compose([\n",
    "        transforms.Resize((224, 224)),\n",
    "        transforms.RandomHorizontalFlip(),\n",
    "        transforms.ToTensor(),\n",
    "        transforms.Normalize([0.485, 0.456, 0.406], [0.229, 0.224, 0.225])\n",
    "    ]),\n",
    "    'val': transforms.Compose([\n",
    "        transforms.Resize((224, 224)),\n",
    "        transforms.ToTensor(),\n",
    "        transforms.Normalize([0.485, 0.456, 0.406], [0.229, 0.224, 0.225])\n",
    "    ]),\n",
    "    'test': transforms.Compose([\n",
    "        transforms.Resize((224, 224)),\n",
    "        transforms.ToTensor(),\n",
    "        transforms.Normalize([0.485, 0.456, 0.406], [0.229, 0.224, 0.225])\n",
    "    ])\n",
    "}"
   ]
  },
  {
   "cell_type": "code",
   "execution_count": null,
   "id": "d1599939",
   "metadata": {},
   "outputs": [],
   "source": [
    "data_dir = \"dataset/\"\n",
    "dataset_all = datasets.ImageFolder(data_dir, transform=None)\n",
    "size_all = len(dataset_all)\n",
    "print(f'Full dataset size: {size_all}')"
   ]
  },
  {
   "cell_type": "code",
   "execution_count": null,
   "id": "abb5fbbd",
   "metadata": {},
   "outputs": [],
   "source": [
    "# split into train and test sets\n",
    "TEST_RATIO = 0.2\n",
    "VAL_RATIO = 0.2\n",
    "size_test = int(size_all * TEST_RATIO)\n",
    "size_train_val = size_all - size_test\n",
    "dataset_train_val, dataset_test = random_split(\n",
    "    dataset_all, \n",
    "    [size_train_val, size_test], \n",
    "    generator=Generator().manual_seed(SEED)\n",
    ")"
   ]
  },
  {
   "cell_type": "code",
   "execution_count": null,
   "id": "0ca267f0",
   "metadata": {},
   "outputs": [],
   "source": [
    "# further split training set into train and validation\n",
    "size_val = int(size_train_val * VAL_RATIO)\n",
    "size_train = size_train_val - size_val\n",
    "dataset_train, dataset_val = random_split(\n",
    "    dataset_train_val, \n",
    "    [size_train, size_val], \n",
    "    generator=Generator().manual_seed(SEED)\n",
    ")"
   ]
  },
  {
   "cell_type": "code",
   "execution_count": null,
   "id": "cec8dfd9",
   "metadata": {},
   "outputs": [],
   "source": [
    "# dataset split sizes\n",
    "print(f'Training set size: {len(dataset_train)}')\n",
    "print(f'Validation set size: {len(dataset_val)}')\n",
    "print(f'Test set size: {len(dataset_test)}')"
   ]
  },
  {
   "cell_type": "code",
   "execution_count": null,
   "id": "f32fc62f",
   "metadata": {},
   "outputs": [],
   "source": [
    "# create a class to apply transformations to our subset datasets\n",
    "class TransformedSubset:\n",
    "    def __init__(self, subset, transform):\n",
    "        self.subset = subset\n",
    "        self.transform = transform\n",
    "    \n",
    "    def __len__(self):\n",
    "        return len(self.subset)\n",
    "    \n",
    "    def __getitem__(self, idx):\n",
    "        x, y = self.subset[idx]\n",
    "        if self.transform:\n",
    "            # convert tensor back to PIL if needed\n",
    "            if isinstance(x, torch.Tensor):\n",
    "                from torchvision.transforms.functional import to_pil_image\n",
    "                x = to_pil_image(x)\n",
    "            x = self.transform(x)\n",
    "        return x, y"
   ]
  },
  {
   "cell_type": "code",
   "execution_count": null,
   "id": "2de9187f",
   "metadata": {},
   "outputs": [],
   "source": [
    "train_dataset = TransformedSubset(dataset_train, data_transforms['train'])\n",
    "val_dataset = TransformedSubset(dataset_val, data_transforms['val'])\n",
    "test_dataset = TransformedSubset(dataset_test, data_transforms['test'])"
   ]
  },
  {
   "cell_type": "code",
   "execution_count": null,
   "id": "3bc7e2c8",
   "metadata": {},
   "outputs": [],
   "source": [
    "# create data loaders\n",
    "BATCH_SIZE = 32  # smaller batch size for more modest gpus\n",
    "train_loader = DataLoader(train_dataset, batch_size=BATCH_SIZE, shuffle=True)\n",
    "val_loader = DataLoader(val_dataset, batch_size=BATCH_SIZE, shuffle=False)\n",
    "test_loader = DataLoader(test_dataset, batch_size=BATCH_SIZE, shuffle=False)\n",
    "\n",
    "dataloaders = {\n",
    "    'train': train_loader,\n",
    "    'val': val_loader,\n",
    "    'test': test_loader\n",
    "}\n",
    "\n",
    "# class names and number of classes\n",
    "class_names = dataset_all.classes\n",
    "num_classes = len(class_names)\n",
    "print(f'Number of classes: {num_classes}' + '\\n')\n",
    "print('Class Names:')\n",
    "for classes in class_names:\n",
    "  print(classes)"
   ]
  },
  {
   "cell_type": "code",
   "execution_count": null,
   "id": "4eec45de",
   "metadata": {},
   "outputs": [],
   "source": [
    "# model 3: vgg11 with transfer learning\n",
    "def create_vgg11_model():\n",
    "    model = models.vgg11_bn(weights='IMAGENET1K_V1')\n",
    "    \n",
    "    # freeze early layers\n",
    "    for param in model.features.parameters():\n",
    "        param.requires_grad = False\n",
    "    \n",
    "    # replace classifier\n",
    "    model.classifier[6] = nn.Linear(4096, num_classes)\n",
    "    \n",
    "    return model.to(device)"
   ]
  },
  {
   "cell_type": "code",
   "execution_count": null,
   "id": "43112517",
   "metadata": {},
   "outputs": [],
   "source": [
    "# training function\n",
    "def train_model(model, criterion, optimizer, scheduler, num_epochs=5):\n",
    "    start_time = time.time()\n",
    "    \n",
    "    # initialize variables to track best model\n",
    "    best_model_wts = model.state_dict()\n",
    "    best_acc = 0.0\n",
    "    \n",
    "    # track training history\n",
    "    history = {\n",
    "        'train_loss': [],\n",
    "        'train_acc': [],\n",
    "        'val_loss': [],\n",
    "        'val_acc': []\n",
    "    }\n",
    "    \n",
    "    for epoch in range(num_epochs):\n",
    "        print(f'Epoch {epoch+1}/{num_epochs}')\n",
    "        print('-' * 10)\n",
    "        \n",
    "        # each epoch has training and validation phase\n",
    "        for phase in ['train', 'val']:\n",
    "            if phase == 'train':\n",
    "                model.train()\n",
    "            else:\n",
    "                model.eval()\n",
    "            \n",
    "            running_loss = 0.0\n",
    "            running_corrects = 0\n",
    "            \n",
    "            # iterate over batches\n",
    "            for inputs, labels in dataloaders[phase]:\n",
    "                inputs = inputs.to(device)\n",
    "                labels = labels.to(device)\n",
    "                \n",
    "                # zero gradients\n",
    "                optimizer.zero_grad()\n",
    "                \n",
    "                # forward pass\n",
    "                with torch.set_grad_enabled(phase == 'train'):\n",
    "                    outputs = model(inputs)\n",
    "                    loss = criterion(outputs, labels)\n",
    "                    _, preds = torch.max(outputs, 1)\n",
    "                    \n",
    "                    # backward pass + optimize only in training\n",
    "                    if phase == 'train':\n",
    "                        loss.backward()\n",
    "                        optimizer.step()\n",
    "                \n",
    "                # statistics\n",
    "                running_loss += loss.item() * inputs.size(0)\n",
    "                running_corrects += torch.sum(preds == labels.data)\n",
    "            \n",
    "            # calculate epoch statistics\n",
    "            epoch_loss = running_loss / len(dataloaders[phase].dataset)\n",
    "            epoch_acc = running_corrects.double() / len(dataloaders[phase].dataset)\n",
    "            \n",
    "            # store in history\n",
    "            if phase == 'train':\n",
    "                history['train_loss'].append(epoch_loss)\n",
    "                history['train_acc'].append(epoch_acc.item())\n",
    "            else:\n",
    "                history['val_loss'].append(epoch_loss)\n",
    "                history['val_acc'].append(epoch_acc.item())\n",
    "            \n",
    "            print(f'{phase} Loss: {epoch_loss:.4f} Acc: {epoch_acc:.4f}')\n",
    "            \n",
    "            # save best model\n",
    "            if phase == 'val' and epoch_acc > best_acc:\n",
    "                best_acc = epoch_acc\n",
    "                best_model_wts = model.state_dict().copy()\n",
    "        \n",
    "        # update learning rate\n",
    "        if scheduler is not None:\n",
    "            scheduler.step()\n",
    "        \n",
    "        print()\n",
    "    \n",
    "    # training completed\n",
    "    time_elapsed = time.time() - start_time\n",
    "    print(f'Training complete in {time_elapsed // 60:.0f}m {time_elapsed % 60:.0f}s')\n",
    "    print(f'Best val Acc: {best_acc:.4f}')\n",
    "    \n",
    "    # load the best model weights\n",
    "    model.load_state_dict(best_model_wts)\n",
    "    return model, history"
   ]
  },
  {
   "cell_type": "code",
   "execution_count": null,
   "id": "aadc2fb5",
   "metadata": {},
   "outputs": [],
   "source": [
    "# test model function\n",
    "def test_model(model, test_loader):\n",
    "    model.eval()\n",
    "    running_corrects = 0\n",
    "    \n",
    "    with torch.no_grad():\n",
    "        for inputs, labels in test_loader:\n",
    "            inputs = inputs.to(device)\n",
    "            labels = labels.to(device)\n",
    "            \n",
    "            outputs = model(inputs)\n",
    "            _, preds = torch.max(outputs, 1)\n",
    "            \n",
    "            running_corrects += torch.sum(preds == labels.data)\n",
    "    \n",
    "    acc = running_corrects.double() / len(test_loader.dataset)\n",
    "    print(f'Test Accuracy: {acc:.4f}')\n",
    "    return acc.item()"
   ]
  },
  {
   "cell_type": "code",
   "execution_count": null,
   "id": "3839c535-67c4-46fc-b61a-e35644e74d49",
   "metadata": {},
   "outputs": [],
   "source": [
    "# plot training history\n",
    "def plot_history(history, title):\n",
    "    plt.figure(figsize=(12, 4))\n",
    "    \n",
    "    # plot accuracy\n",
    "    plt.subplot(1, 2, 1)\n",
    "    plt.plot(history['train_acc'], label='Train')\n",
    "    plt.plot(history['val_acc'], label='Validation')\n",
    "    plt.title(f'{title} - Accuracy')\n",
    "    plt.xlabel('Epoch')\n",
    "    plt.ylabel('Accuracy')\n",
    "    plt.legend()\n",
    "    \n",
    "    # plot loss\n",
    "    plt.subplot(1, 2, 2)\n",
    "    plt.plot(history['train_loss'], label='Train')\n",
    "    plt.plot(history['val_loss'], label='Validation')\n",
    "    plt.title(f'{title} - Loss')\n",
    "    plt.xlabel('Epoch')\n",
    "    plt.ylabel('Loss')\n",
    "    plt.legend()\n",
    "    \n",
    "    plt.tight_layout()\n",
    "    plt.show()"
   ]
  },
  {
   "cell_type": "code",
   "execution_count": null,
   "id": "77a15157-c1fc-4412-8d8a-012073ee829b",
   "metadata": {},
   "outputs": [],
   "source": [
    "# train and evaluate vgg11\n",
    "print(\"\\nTraining VGG11...\")\n",
    "vgg11_model = create_vgg11_model()\n",
    "    \n",
    "criterion = nn.CrossEntropyLoss()\n",
    "optimizer = optim.Adam(filter(lambda p: p.requires_grad, vgg11_model.parameters()), lr=0.001)\n",
    "scheduler = optim.lr_scheduler.StepLR(optimizer, step_size=3, gamma=0.1)\n",
    "\n",
    "vgg11_model, vgg11_history = train_model(vgg11_model, criterion, optimizer, scheduler, num_epochs=10)\n",
    "    \n",
    "# plot results\n",
    "plot_history(vgg11_history, \"VGG11\")\n",
    "\n",
    "# test final model\n",
    "vgg11_acc = test_model(vgg11_model, dataloaders['test'])"
   ]
  }
 ],
 "metadata": {
  "kernelspec": {
   "display_name": ".venv",
   "language": "python",
   "name": "python3"
  },
  "language_info": {
   "codemirror_mode": {
    "name": "ipython",
    "version": 3
   },
   "file_extension": ".py",
   "mimetype": "text/x-python",
   "name": "python",
   "nbconvert_exporter": "python",
   "pygments_lexer": "ipython3",
   "version": "3.13.1"
  }
 },
 "nbformat": 4,
 "nbformat_minor": 5
}
